{
 "cells": [
  {
   "cell_type": "markdown",
   "metadata": {},
   "source": [
    "# Additive Law"
   ]
  },
  {
   "cell_type": "markdown",
   "metadata": {},
   "source": [
    "### What is Additive Law ?\n",
    "___\n",
    "#### Definition : The probability of the union of two sets is equal to the sum of the individual probabilities of each event, minus the probability of their intersection.\n",
    "\n",
    "That means <code>P(A ∪ B) = P(A) + P(B) - P(A ∩ B)</code>."
   ]
  },
  {
   "cell_type": "markdown",
   "metadata": {},
   "source": [
    "Example1: Survey if vegetarian, the result table is below\n",
    "\n",
    "\n",
    "Gender|     Vegetarian      |Meet      |Total\n",
    "------|     ----------      |-------   |------\n",
    "Female|     15              |32        |47\n",
    "Male  |     29              |24        |53\n",
    "Total |     44              |56        |100\n",
    "\n",
    "\n",
    "<code>P(Female ∪ vegetarian) = P(Female) + P(vegetarian) - P(Female ∩ vegetarian) = 0.47 + 0.44 - 0.15 = 0.76</code>"
   ]
  },
  {
   "cell_type": "markdown",
   "metadata": {},
   "source": [
    "Example2:\n",
    "\n",
    "P(Tableau) = 38%, P(SQL) = 45%, P(Tableau ∪ SQL) = 66%, so how many people in the office, can being able to simultaneously implement Tableau and SQL ?\n",
    "\n",
    "In order to answer this question, we can rearrange <code>P(A ∪ B) = P(A) + P(B) - P(A ∩ B) to P(A ∩ B) = P(A) + P(B) - P(A ∪ B)</code>.\n",
    "\n",
    "So can being to simultaneously implement tableau and SQL = 0.38 + 0.45 - 0.66 = 0.17."
   ]
  },
  {
   "cell_type": "code",
   "execution_count": null,
   "metadata": {},
   "outputs": [],
   "source": []
  }
 ],
 "metadata": {
  "kernelspec": {
   "display_name": "Python 3",
   "language": "python",
   "name": "python3"
  },
  "language_info": {
   "codemirror_mode": {
    "name": "ipython",
    "version": 3
   },
   "file_extension": ".py",
   "mimetype": "text/x-python",
   "name": "python",
   "nbconvert_exporter": "python",
   "pygments_lexer": "ipython3",
   "version": "3.7.4"
  }
 },
 "nbformat": 4,
 "nbformat_minor": 2
}
