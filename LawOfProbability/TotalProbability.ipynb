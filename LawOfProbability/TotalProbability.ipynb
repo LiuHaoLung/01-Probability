{
 "cells": [
  {
   "cell_type": "markdown",
   "metadata": {},
   "source": [
    "# Law Of Total Probability"
   ]
  },
  {
   "cell_type": "markdown",
   "metadata": {},
   "source": [
    "Example Survey if vegetarian, the result table is below:\n",
    "\n",
    "\n",
    "Gender|     Vegetarian      |Meet      |Total\n",
    "------|     ----------      |-------   |------\n",
    "Female|     15              |32        |47\n",
    "Male  |     29              |24        |53\n",
    "Total |     44              |56        |100\n",
    "\n",
    "\n",
    "We can know the tatal probability of vegetarian = <code>0.44 = P(vegetarian|Female) * P(Female) + P(vegetarian|Male) * P(Male) = 29/53 * 53/100 + 15/47 * 47/100</code>\n",
    "\n",
    "That means <code>A = B1 ∪ B2 ∪ .... Bn = P(A) = P(A|B1) * P(B1) * ... P(A|Bn) * P(Bn)</code>"
   ]
  },
  {
   "cell_type": "code",
   "execution_count": null,
   "metadata": {},
   "outputs": [],
   "source": []
  }
 ],
 "metadata": {
  "kernelspec": {
   "display_name": "Python 3",
   "language": "python",
   "name": "python3"
  },
  "language_info": {
   "codemirror_mode": {
    "name": "ipython",
    "version": 3
   },
   "file_extension": ".py",
   "mimetype": "text/x-python",
   "name": "python",
   "nbconvert_exporter": "python",
   "pygments_lexer": "ipython3",
   "version": "3.7.4"
  }
 },
 "nbformat": 4,
 "nbformat_minor": 2
}
