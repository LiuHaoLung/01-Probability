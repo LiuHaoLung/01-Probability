{
 "cells": [
  {
   "cell_type": "markdown",
   "metadata": {},
   "source": [
    "# Multiplication Law"
   ]
  },
  {
   "cell_type": "markdown",
   "metadata": {},
   "source": [
    "The probability of both events occurring simultaneously equals the product of the likelihood of A occurring and the conditional probability that B occurrs, given A has already occurred.\n",
    "\n",
    "<code>P(A|B) = P(A ∩ B) / P(B) = P(A|B) * P(B) = P(A ∩ B) * P(B) / P(B) = P(A ∩ B), so the P(A|B) * P(B) = P(A ∩ B) called multiplication law.</code>"
   ]
  },
  {
   "cell_type": "markdown",
   "metadata": {},
   "source": [
    "Example1:\n",
    "\n",
    "<code>P(B) = 0.5, P(A|B) = 0.8</code>, that means event A also appears in 0.8 of those 0.5 when B occurred.\n",
    "\n",
    "So the likelihood of A and B occurring simultaneously is = <code>P(A ∩ B) = 0.8 * 0.5 = 0.4</code>."
   ]
  },
  {
   "cell_type": "markdown",
   "metadata": {},
   "source": [
    "Example2:\n",
    "\n",
    "Draw one, shuffle the deck without returning the card, and draw a second one.\n",
    "\n",
    "What is the probability of drawing a spade on the second draw and not drawing a spade on the first draw?\n",
    "\n",
    "P(A) = drawing a spade on the second try.\n",
    "P(B) = not drawing a spade on the first try.\n",
    "\n",
    "<code>P(B) = 3/4, P(A|B) = 13/51 = 0.255</code>, but the answer of question is not being answered, so we need to use multiplication law.\n",
    "\n",
    "<code>P(A|B) * P(B) = P(A ∩ B) = 0.255 * 0.75 = 0.191</code>."
   ]
  },
  {
   "cell_type": "code",
   "execution_count": null,
   "metadata": {},
   "outputs": [],
   "source": []
  }
 ],
 "metadata": {
  "kernelspec": {
   "display_name": "Python 3",
   "language": "python",
   "name": "python3"
  },
  "language_info": {
   "codemirror_mode": {
    "name": "ipython",
    "version": 3
   },
   "file_extension": ".py",
   "mimetype": "text/x-python",
   "name": "python",
   "nbconvert_exporter": "python",
   "pygments_lexer": "ipython3",
   "version": "3.7.4"
  }
 },
 "nbformat": 4,
 "nbformat_minor": 2
}
