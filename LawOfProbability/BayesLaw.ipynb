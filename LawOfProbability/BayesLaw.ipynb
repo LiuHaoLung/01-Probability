{
 "cells": [
  {
   "cell_type": "markdown",
   "metadata": {},
   "source": [
    "# Bayes Law"
   ]
  },
  {
   "cell_type": "markdown",
   "metadata": {},
   "source": [
    "There are two events: A and B\n",
    "\n",
    "Conditional; probability formula is:<code> P(A|B) = P(A ∩ B) / P(B).</code>\n",
    "\n",
    "Multiplication rule is:<code> P(A ∩ B) = P(B|A) * P(A).</code>\n",
    "\n",
    "So the Conditional probability will be the:<code> P(A|B) = P(B|A) * P(A) / P(B).</code>\n",
    "\n",
    "The change of conditional probability:<code> P(A|B) = P(B|A) * P(A) / P(B)</code>, is known as Bayes Law.\n",
    "\n",
    "The Bayes Law allows us to find a relationship between the different conditional probabilities of two events."
   ]
  },
  {
   "cell_type": "markdown",
   "metadata": {},
   "source": [
    "One of the most prominent examples of using Bayes Law is in the medical research when trying to find a causal relationship between symptoms, knowing both conditional probabilities between the two helps us make more reasonable arguments about which one causes the other."
   ]
  },
  {
   "cell_type": "markdown",
   "metadata": {},
   "source": [
    "Example:\n",
    "\n",
    "200  successful candidates,<code>P(relevant experience) = 0.45, P(good grade) = 0.6, P(good grade|relevant experience) = 0.5.</code>\n",
    "\n",
    "We can know if the candidate have relevant experience| given the good grade, that means we can use Bayes Law to know about it.\n",
    "\n",
    "<code>P(relevant experience|good grade) = P(good grade|relevant experience) * P(relevant experience) / P(good grade) = 0.5 * 0.45 / 0.6 = 0.375.</code>\n",
    "\n",
    "It can know <code>P(relevant experience|good grade)</code> is smaller than <code>P(good grade|relevant experience).</code>\n",
    "\n",
    "So the candidates who had internships are more likely to also hava a high GPA, therefor the firm who more likely to get their ideal candidate if they go for someboy who has experience rather than somebody who hava a good grade."
   ]
  },
  {
   "cell_type": "code",
   "execution_count": null,
   "metadata": {},
   "outputs": [],
   "source": []
  }
 ],
 "metadata": {
  "kernelspec": {
   "display_name": "Python 3",
   "language": "python",
   "name": "python3"
  },
  "language_info": {
   "codemirror_mode": {
    "name": "ipython",
    "version": 3
   },
   "file_extension": ".py",
   "mimetype": "text/x-python",
   "name": "python",
   "nbconvert_exporter": "python",
   "pygments_lexer": "ipython3",
   "version": "3.7.4"
  }
 },
 "nbformat": 4,
 "nbformat_minor": 2
}
