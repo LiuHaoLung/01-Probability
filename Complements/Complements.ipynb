{
 "cells": [
  {
   "cell_type": "markdown",
   "metadata": {},
   "source": [
    "# Complements"
   ]
  },
  {
   "cell_type": "markdown",
   "metadata": {},
   "source": [
    "### What is complement ?\n",
    "___\n",
    "#### Definition : everything the event is not.\n",
    "\n",
    "The complement helps complete the rest of the sample space.\n",
    "\n",
    "A' = complement\n",
    "\n",
    "(A')' = A\n",
    "\n",
    "P(A') = 1 - P(A)\n",
    "\n",
    "So the A + A' = sample space\n",
    "\n",
    "All possible outcomes = A,B,C\n",
    "\n",
    "If P(A) + P(B) = sum of probabilities of A & B, then the P(A) + P(B) + P(C) = 1, that means 100% certain.\n",
    "\n",
    "For example for rolling a dice, we can call the A = rolling an even number, A' means not rolling an even number, in the ohter words thats means rolling an odd number."
   ]
  },
  {
   "cell_type": "code",
   "execution_count": null,
   "metadata": {},
   "outputs": [],
   "source": []
  }
 ],
 "metadata": {
  "kernelspec": {
   "display_name": "Python 3",
   "language": "python",
   "name": "python3"
  },
  "language_info": {
   "codemirror_mode": {
    "name": "ipython",
    "version": 3
   },
   "file_extension": ".py",
   "mimetype": "text/x-python",
   "name": "python",
   "nbconvert_exporter": "python",
   "pygments_lexer": "ipython3",
   "version": "3.7.4"
  }
 },
 "nbformat": 4,
 "nbformat_minor": 2
}
