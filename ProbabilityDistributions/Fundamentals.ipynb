{
 "cells": [
  {
   "cell_type": "markdown",
   "metadata": {},
   "source": [
    "# Fundamentals of Probability Distributions"
   ]
  },
  {
   "cell_type": "markdown",
   "metadata": {},
   "source": [
    "When we have infinte number of possible outcomes we can construct the probabilities.\n",
    "\n",
    "Distribution means the possible values a variable can take and how frequently they occur.\n",
    "___\n",
    "The notation:\n",
    "\n",
    "***Y*** means the actual outcome of an event.\n",
    "\n",
    "***y*** means one of the possible outcome.\n",
    "\n",
    "The likelihood of reaching a particular outcome Y is ***P(Y = y)*** or can express ***P(y)***, it can express each distinct outcome, and it call the probability function.\n",
    "___\n",
    "When analyzing distributions it is important to understand what kind of data we are dealing with.\n",
    "\n",
    "* Population data is the formal way of referring to all the data.\n",
    "* Sample data is just a part of it.\n",
    "\n",
    "Example if an employer surveys an entire department about how they traveld to work, the data would represent the population of the department, however this same data would also just be a sample of the employees in the whole company.\n",
    "___\n",
    "The Mean of the distribution is average value variance.\n",
    "\n",
    "THe Variance is essentially how spread out the data is.\n",
    "\n",
    "The Standard Deviation is simply the positive square root of variance, and it is measured in the same units as the mean.\n",
    "\n",
    "We measure this spread by how far away from the mean all the values are the more dispersed the data is the high its variance will be.\n",
    "\n",
    "So the more congested the middle of the distribution, the more data falls within that interval.The less data falls within the interval, the more dispersed the data is."
   ]
  },
  {
   "cell_type": "code",
   "execution_count": null,
   "metadata": {},
   "outputs": [],
   "source": []
  }
 ],
 "metadata": {
  "kernelspec": {
   "display_name": "Python 3",
   "language": "python",
   "name": "python3"
  },
  "language_info": {
   "codemirror_mode": {
    "name": "ipython",
    "version": 3
   },
   "file_extension": ".py",
   "mimetype": "text/x-python",
   "name": "python",
   "nbconvert_exporter": "python",
   "pygments_lexer": "ipython3",
   "version": "3.7.4"
  }
 },
 "nbformat": 4,
 "nbformat_minor": 2
}
