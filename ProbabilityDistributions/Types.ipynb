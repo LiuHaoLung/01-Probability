{
 "cells": [
  {
   "cell_type": "markdown",
   "metadata": {},
   "source": [
    "# Types"
   ]
  },
  {
   "cell_type": "markdown",
   "metadata": {},
   "source": [
    "### Discrete Distributions\n",
    "___\n",
    "Such like die or picking a card, there are finite number of outcomes.\n",
    "\n",
    "\n",
    "Example               |Type                      |Explain\n",
    "---                   |---                       |---\n",
    "Draws cards           |Uniform Distribution      |All outcome are equally likely, such outcomes called equiprobable\n",
    "Flipping a coin       |Uniform Distribution      |All outcome are equally likely, such outcomes called equiprobable\n",
    "True/False question   |Bernoulli Distribution    |Any with two outcomes can be transformed into Bernoulli event\n",
    "Flipping 3 times and calculate the likelihood of getting twice|Binomial Distribution|Carrying out a similar experiment several times in a row\n",
    "35 points per game and want to know will get 12 points in the first quarter iof next game|Poisson Distribution|Test out how unusual an event frequency is for a given interval"
   ]
  },
  {
   "cell_type": "markdown",
   "metadata": {},
   "source": [
    "### Continuous Distributions\n",
    "___\n",
    "Such like recording time or distance in track, there are infinitely many outcomes.\n",
    "\n",
    "When we dealing with continuous outcomes the probability distribution would be a curve as opposed to unconnected individual bars.\n",
    "\n",
    "Explain               |Type                      \n",
    "---                   |---                       \n",
    "The outcomes of many events in nature closely resembled this distribution                      |Normal Distribution      \n",
    "Serves as a small sample approximation of a Normal Distribution|Student's-T Distribution\n",
    "It is asymmetric amd only consists of non-negative values, that means it always start from 0, and the curve is typically skewed to the left|Chi-Squared Distribution\n",
    "Events that are rapidly changing early on|Exponential Distribution\n",
    "Useful in forecast analysis and useful for determimg a cut-off point for a successful outcome|Logistic Distribution"
   ]
  },
  {
   "cell_type": "code",
   "execution_count": null,
   "metadata": {},
   "outputs": [],
   "source": []
  }
 ],
 "metadata": {
  "kernelspec": {
   "display_name": "Python 3",
   "language": "python",
   "name": "python3"
  },
  "language_info": {
   "codemirror_mode": {
    "name": "ipython",
    "version": 3
   },
   "file_extension": ".py",
   "mimetype": "text/x-python",
   "name": "python",
   "nbconvert_exporter": "python",
   "pygments_lexer": "ipython3",
   "version": "3.7.4"
  }
 },
 "nbformat": 4,
 "nbformat_minor": 2
}
