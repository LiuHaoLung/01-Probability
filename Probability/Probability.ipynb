{
 "cells": [
  {
   "cell_type": "markdown",
   "metadata": {},
   "source": [
    "# Probability"
   ]
  },
  {
   "cell_type": "markdown",
   "metadata": {},
   "source": [
    "### What is probability ?\n",
    "____\n",
    "#### Definition : the likelihood of an event occuring.\n",
    "\n",
    "Event is a specific outcome or a combination of several outcomes.\n",
    "\n",
    "When dealing with uncertain event, we're seldom satisfied by simply knowing whether an event is likely or unlikely. \n",
    "\n",
    "Ideally we want to be able to measure and compare probabilities in order to know which event is relatively more likely.\n",
    "\n",
    "So we can think of probability as a field that is about quantifying exactly how likely each of those event are on their own."
   ]
  },
  {
   "cell_type": "markdown",
   "metadata": {},
   "source": [
    "### The probability formula \n",
    "____\n",
    "\n",
    "\n",
    "A = event.\n",
    "\n",
    "p(a) = prefered (favourable) / all (sample space) = probability.\n",
    "\n",
    "The prefered & favourable and all & sample space are interchangeably.\n",
    "\n",
    "If two independent occurring at the same time, the probability is  p(A and B) = p(A).p(B). "
   ]
  },
  {
   "cell_type": "code",
   "execution_count": null,
   "metadata": {},
   "outputs": [],
   "source": []
  }
 ],
 "metadata": {
  "kernelspec": {
   "display_name": "Python 3",
   "language": "python",
   "name": "python3"
  },
  "language_info": {
   "codemirror_mode": {
    "name": "ipython",
    "version": 3
   },
   "file_extension": ".py",
   "mimetype": "text/x-python",
   "name": "python",
   "nbconvert_exporter": "python",
   "pygments_lexer": "ipython3",
   "version": "3.7.4"
  }
 },
 "nbformat": 4,
 "nbformat_minor": 2
}
