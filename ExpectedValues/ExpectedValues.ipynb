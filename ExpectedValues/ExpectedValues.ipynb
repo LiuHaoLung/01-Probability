{
 "cells": [
  {
   "cell_type": "markdown",
   "metadata": {},
   "source": [
    "# Expected Values"
   ]
  },
  {
   "cell_type": "markdown",
   "metadata": {},
   "source": [
    "### What is experiment probability ?\n",
    "___\n",
    "\n",
    "When we are uncertain what the true probabilities are or how to compute them, we like conducting experiments.\n",
    "\n",
    "The experiment probabilities we get are not always equal to the theoretcial probabilities, but it is a good approximation, and the experiment probabilities is easy to compute."
   ]
  },
  {
   "cell_type": "markdown",
   "metadata": {},
   "source": [
    "### The experiment probability formula \n",
    "___\n",
    "\n",
    "p(A) = successful trials / all trials."
   ]
  },
  {
   "cell_type": "markdown",
   "metadata": {},
   "source": [
    "### What is expected values ?\n",
    "___\n",
    "#### Definition : the average outcome we expect if we run an experiment many times.\n",
    "\n",
    "Experiment means multiple trials.\n",
    "\n",
    "We can use expected values to make predictions about the future based on past data, so we frequently make predictions using interval instead of specific values dut to uncertainty the future brings."
   ]
  },
  {
   "cell_type": "markdown",
   "metadata": {},
   "source": [
    "### The expected values formula\n",
    "___\n",
    "#### For the categorical outcomes\n",
    "\n",
    "E(A) = the outcome we expect to occur when we run an experiment.\n",
    "\n",
    "E(A) = p(A) x n (the experiment times).\n",
    "\n",
    "It is no guarantee!\n",
    "___\n",
    "#### For the numerical outcomes\n",
    "\n",
    "The formula we take the value for every element in the sample space and multiply it by it probability.\n",
    "\n",
    "Assume the sample space have three elements, the expected values is\n",
    "\n",
    "E = A.P(A) + B.P(B) + C.P(C)"
   ]
  },
  {
   "cell_type": "code",
   "execution_count": null,
   "metadata": {},
   "outputs": [],
   "source": []
  }
 ],
 "metadata": {
  "kernelspec": {
   "display_name": "Python 3",
   "language": "python",
   "name": "python3"
  },
  "language_info": {
   "codemirror_mode": {
    "name": "ipython",
    "version": 3
   },
   "file_extension": ".py",
   "mimetype": "text/x-python",
   "name": "python",
   "nbconvert_exporter": "python",
   "pygments_lexer": "ipython3",
   "version": "3.7.4"
  }
 },
 "nbformat": 4,
 "nbformat_minor": 2
}
