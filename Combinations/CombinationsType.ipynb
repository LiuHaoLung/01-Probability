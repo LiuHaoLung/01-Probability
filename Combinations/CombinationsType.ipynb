{
 "cells": [
  {
   "cell_type": "markdown",
   "metadata": {},
   "source": [
    "# Combinations"
   ]
  },
  {
   "cell_type": "markdown",
   "metadata": {},
   "source": [
    "A combinations can be a mixture of different smaller individaul events.\n",
    "\n",
    "Example to decide the best ad you want to promotional, there are heading, thumbnail, post description and the button, there are 3 heading, 5 thumbnail, 3 post description and 2 button.\n",
    "\n",
    "So how many different ads would you have to generate to make sure you've tried all possibilities.\n",
    "\n",
    "The amounts is <code>3 * 5 * 3 * 2 = 90</code> different types of ads have to generate.\n",
    "\n",
    "This can determine the appropriate amout of time it would take for such a task to be completed, if the components are too many, they can remove several of the options to tremendously decrease the workload.\n",
    "\n",
    "Calculating the total number of combinations is by multiplying the number of options available for each individual event."
   ]
  }
 ],
 "metadata": {
  "kernelspec": {
   "display_name": "Python 3",
   "language": "python",
   "name": "python3"
  },
  "language_info": {
   "codemirror_mode": {
    "name": "ipython",
    "version": 3
   },
   "file_extension": ".py",
   "mimetype": "text/x-python",
   "name": "python",
   "nbconvert_exporter": "python",
   "pygments_lexer": "ipython3",
   "version": "3.7.4"
  }
 },
 "nbformat": 4,
 "nbformat_minor": 2
}
