{
 "cells": [
  {
   "cell_type": "markdown",
   "metadata": {},
   "source": [
    "# Combinations"
   ]
  },
  {
   "cell_type": "markdown",
   "metadata": {},
   "source": [
    "Picking more elements leads to having fewer combinations.\n",
    "\n",
    "Example to pick the fruit, picking 4 fruits out of 6, is the same as choosing 2 fruits that will be left out.\n",
    "\n",
    "Like choosing 4 fruits the combinations = 6! / 2! * 4! = 15, the choosing 2 fruits that will be left out = 6! / 2! * 4! = 15, so the answer is the same.\n",
    "\n",
    "If the P > n / 2 > n - P, we can apply symmetry to avoid calculating factiorals of large numbers, so can use the symmetry to simplify the calculations."
   ]
  }
 ],
 "metadata": {
  "kernelspec": {
   "display_name": "Python 3",
   "language": "python",
   "name": "python3"
  },
  "language_info": {
   "codemirror_mode": {
    "name": "ipython",
    "version": 3
   },
   "file_extension": ".py",
   "mimetype": "text/x-python",
   "name": "python",
   "nbconvert_exporter": "python",
   "pygments_lexer": "ipython3",
   "version": "3.7.4"
  }
 },
 "nbformat": 4,
 "nbformat_minor": 2
}
