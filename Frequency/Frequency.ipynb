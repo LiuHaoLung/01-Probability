{
 "cells": [
  {
   "cell_type": "markdown",
   "metadata": {},
   "source": [
    "# Frequency"
   ]
  },
  {
   "cell_type": "markdown",
   "metadata": {},
   "source": [
    "### What is probability frequency distribution ?\n",
    "___\n",
    "#### Definition : a collection of the probabilties for each possible outcome\n",
    "\n",
    "Assume there is a table for the two dice sum up :\n",
    "\n",
    "Sum      |Frequency\n",
    "----     |-------\n",
    "2        |1\n",
    "3        |2\n",
    "4        |3\n",
    "5        |4\n",
    "6        |5\n",
    "7        |6\n",
    "8        |5\n",
    "9        |6\n",
    "10       |4\n",
    "11       |2\n",
    "12       |1\n",
    "\n",
    "When getting a sum of eight in five dirrerent cases means that eight has a frequency of five.\n",
    "\n",
    "If we write out all the outcomes in ascending order and the frequency of each one we construct a frequency distribution table, so by examing this tabel we can easily see how the frequency changes with the results.\n",
    "\n",
    "If want to know the probability frequency distribution we need to transform the frequency of each outcome into a probability.\n",
    "\n",
    "So the table become:\n",
    "\n",
    "Sum      |Frequency      |Probability\n",
    "----     |-------        |------------\n",
    "2        |1              |1/36\n",
    "3        |2              |1/18\n",
    "4        |3              |1/12\n",
    "5        |4              |1/9\n",
    "6        |5              |5/36\n",
    "7        |6              |1/6\n",
    "8        |5              |5/36\n",
    "9        |6              |1/9\n",
    "10       |4              |1/12\n",
    "11       |2              |1/18\n",
    "12       |1              |1/36\n",
    "\n",
    "Expect the table, it can draw a graph, when making predictions, we want the general high probability, so through the graph we can know the high probability.\n",
    "\n",
    "Usually the highest bars will form around the expected values. Thus the values around it would also br the values with the highest probability.\n",
    "\n",
    "So this suggests that if we want the interval with the highest probability we should construct it around the expected values."
   ]
  },
  {
   "cell_type": "code",
   "execution_count": null,
   "metadata": {},
   "outputs": [],
   "source": []
  }
 ],
 "metadata": {
  "kernelspec": {
   "display_name": "Python 3",
   "language": "python",
   "name": "python3"
  },
  "language_info": {
   "codemirror_mode": {
    "name": "ipython",
    "version": 3
   },
   "file_extension": ".py",
   "mimetype": "text/x-python",
   "name": "python",
   "nbconvert_exporter": "python",
   "pygments_lexer": "ipython3",
   "version": "3.7.4"
  }
 },
 "nbformat": 4,
 "nbformat_minor": 2
}
