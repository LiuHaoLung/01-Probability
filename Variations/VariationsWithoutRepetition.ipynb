{
 "cells": [
  {
   "cell_type": "markdown",
   "metadata": {},
   "source": [
    "# Variations"
   ]
  },
  {
   "cell_type": "markdown",
   "metadata": {},
   "source": [
    "This is without repetition.\n",
    "___\n",
    "Imagine you need to chooose which four memeber of your team run the relay and in what order the team consists of five people, Tom, Eric, David, Kevin, Josh.\n",
    "\n",
    "So we have 5 options for the team, let pick David at first position, then there are 4 options for the team, let suppose we chose Josh to run after David, so there are 3 options for the team.\n",
    "\n",
    "If we chose the David and Josh, then that means we can have six different variations for who runs the last two positions.\n",
    "\n",
    "If the David is chose to run the first position, then the positions have <code>4 * 3 * 2 = 24</code> different ways to arrange the 3 remaining positions.\n",
    "\n",
    "What is not David is chose to run the first position, then the positions have <code>5 * 4 * 3 * 2 = 120</code> different ways to arrange the 4 remaining positions.\n",
    "\n",
    "That means the further down the order we go, the fewer options we left with, because we can't not chose the person twice."
   ]
  },
  {
   "cell_type": "markdown",
   "metadata": {},
   "source": [
    "### The variations formula\n",
    "___\n",
    "\n",
    "The number of variations without repetition when arranging p elements out of a total of n.\n",
    "\n",
    "That means n! = (n - p)!"
   ]
  },
  {
   "cell_type": "code",
   "execution_count": null,
   "metadata": {},
   "outputs": [],
   "source": []
  }
 ],
 "metadata": {
  "kernelspec": {
   "display_name": "Python 3",
   "language": "python",
   "name": "python3"
  },
  "language_info": {
   "codemirror_mode": {
    "name": "ipython",
    "version": 3
   },
   "file_extension": ".py",
   "mimetype": "text/x-python",
   "name": "python",
   "nbconvert_exporter": "python",
   "pygments_lexer": "ipython3",
   "version": "3.7.4"
  }
 },
 "nbformat": 4,
 "nbformat_minor": 2
}
