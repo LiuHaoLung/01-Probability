{
 "cells": [
  {
   "cell_type": "markdown",
   "metadata": {},
   "source": [
    "# Variations"
   ]
  },
  {
   "cell_type": "markdown",
   "metadata": {},
   "source": [
    "### What is Variations ?\n",
    "___\n",
    "#### Definition : Variations express the total number of ways we can pick and arrange some elements of a given set.\n",
    "\n",
    "This is repetition, and We use Variations when we have to first pick and then arrange some (but not all) elements of the sample space.\n",
    "\n",
    "For example, there is a lock that we forget the password, the only thing we know is the lock password is consist of two letter code using only the letters A,B,C.\n",
    "\n",
    "If the first letter, we have three options, it can put A,B,C. If we put A, then the second letter we can suppose put A,B,C. So this indicates that there are three different variations if we decide to start with A.\n",
    "\n",
    "Regardless of which one of the 3 letters we decide to start with, we are goint to have 3 different options of the second letter. Therefore, we can get the total variations is = 3 * 3 = 9."
   ]
  },
  {
   "cell_type": "markdown",
   "metadata": {},
   "source": [
    "### The Variation formula\n",
    "___\n",
    "\n",
    "The formula is n^p , n means the total number of elements, we have available, p means the number of position we need to fill.\n",
    "\n",
    "So the number of variations with repetition when picking p-many elements out of n elements, is equal to n to the poewr of p."
   ]
  },
  {
   "cell_type": "code",
   "execution_count": null,
   "metadata": {},
   "outputs": [],
   "source": []
  }
 ],
 "metadata": {
  "kernelspec": {
   "display_name": "Python 3",
   "language": "python",
   "name": "python3"
  },
  "language_info": {
   "codemirror_mode": {
    "name": "ipython",
    "version": 3
   },
   "file_extension": ".py",
   "mimetype": "text/x-python",
   "name": "python",
   "nbconvert_exporter": "python",
   "pygments_lexer": "ipython3",
   "version": "3.7.4"
  }
 },
 "nbformat": 4,
 "nbformat_minor": 2
}
