{
 "cells": [
  {
   "cell_type": "markdown",
   "metadata": {},
   "source": [
    "# Factorials"
   ]
  },
  {
   "cell_type": "markdown",
   "metadata": {},
   "source": [
    "***n!*** is the product of the natural numbers from 1 to n.\n",
    "\n",
    "It means <code>n! = 1 * 2 * 3 * ... * n.</code>"
   ]
  },
  {
   "cell_type": "markdown",
   "metadata": {},
   "source": [
    "### Important Properties\n",
    "___\n",
    "\n",
    "Odd characteristics:\n",
    "\n",
    "* Negative numbers don't have a factorial.\n",
    "* 0! = 1 ( it is by definition).\n",
    "___\n",
    "\n",
    "First properties:\n",
    "* n! = (n-1)! * n\n",
    "* (n+1)! = n! * (n+1)\n",
    "\n",
    "It can be expanded further to express (n+k)! and (n-k)!.\n",
    "___\n",
    "\n",
    "In the math:\n",
    "* <code>(n+k)! = n! * (n+1) * (n+2) * ... * (n+k)</code>\n",
    "* <code>(n-k)! = n! / [(n-k+1) * (n-k+2) * ... (n-k+k)] = n! / [(n-k+1) * (n-k+2) * ... (n)]</code>"
   ]
  },
  {
   "cell_type": "markdown",
   "metadata": {},
   "source": [
    "### Two Factoricals\n",
    "___\n",
    "\n",
    "If we have two natural numbers k and n, and the n is the greatest number(n > k).\n",
    "\n",
    "<code>n! / k! = (k+1) * (k+2) * ... * n</code>\n",
    "\n",
    "For example, <code>7! / 4! = (1 * 2 * 3 * 4 * 5 * 6 * 7) / (1 * 2 * 3 * 4) = 5 * 6 * 7</code>"
   ]
  },
  {
   "cell_type": "code",
   "execution_count": null,
   "metadata": {},
   "outputs": [],
   "source": []
  }
 ],
 "metadata": {
  "kernelspec": {
   "display_name": "Python 3",
   "language": "python",
   "name": "python3"
  },
  "language_info": {
   "codemirror_mode": {
    "name": "ipython",
    "version": 3
   },
   "file_extension": ".py",
   "mimetype": "text/x-python",
   "name": "python",
   "nbconvert_exporter": "python",
   "pygments_lexer": "ipython3",
   "version": "3.7.4"
  }
 },
 "nbformat": 4,
 "nbformat_minor": 2
}
