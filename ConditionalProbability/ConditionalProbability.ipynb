{
 "cells": [
  {
   "cell_type": "markdown",
   "metadata": {},
   "source": [
    "# Conditional Probability"
   ]
  },
  {
   "cell_type": "markdown",
   "metadata": {},
   "source": [
    "Conditional probability is the likelihood of an event occurriing, assuming a different one has already happened.\n",
    "\n",
    "Example two coin flips, A = getting heads, B = getting heads on the previous flip, the probability is <code>P(A|B) = 0.5</code>.\n",
    "\n",
    "<code>P(A) = P(A|B)</code>, the A and B are all independent, and if any two events are independent, the <code>P(A ∩ B) = P(A) * P(B)</code>.\n",
    "\n",
    "A represented draw a queen of spade, B represented draw a spade, C represented draw a queen.\n",
    "\n",
    "<code>P(A)</code> = 1/52, <code>P(A|B)</code> = 1/13, <code>P(A|C)</code> = 1/4, the <code>P(A) ≠ P(A|B)</code>, so A and B are dependent, the <code>P(A) ≠P(A|C)</code>, so A and C are dependent.\n",
    "\n",
    "The condition probability formula is <code>P(A|B) = P(A ∩ B) / P(B)</code>, and the P(B) need to greater than 0, in order to satisfy the conditional probability, we need both event B and A need to occur simultaneously and requires that event B occurs.\n",
    "\n",
    "The order in which we write the elements is crucial, the <code>P(A|B) ≠ P(B|A)</code>, even the probability is the same, but they are completely different meanings."
   ]
  }
 ],
 "metadata": {
  "kernelspec": {
   "display_name": "Python 3",
   "language": "python",
   "name": "python3"
  },
  "language_info": {
   "codemirror_mode": {
    "name": "ipython",
    "version": 3
   },
   "file_extension": ".py",
   "mimetype": "text/x-python",
   "name": "python",
   "nbconvert_exporter": "python",
   "pygments_lexer": "ipython3",
   "version": "3.7.4"
  }
 },
 "nbformat": 4,
 "nbformat_minor": 2
}
