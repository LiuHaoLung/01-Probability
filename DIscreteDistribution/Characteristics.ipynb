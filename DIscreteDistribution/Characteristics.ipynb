{
 "cells": [
  {
   "cell_type": "markdown",
   "metadata": {},
   "source": [
    "# Discrete Distribution"
   ]
  },
  {
   "cell_type": "markdown",
   "metadata": {},
   "source": [
    "The event with discrete distribution hava finitely distinct outcomes, therefore we can express the entire probability distribution with entire a table, a graph or a formula.\n",
    "\n",
    "To do so, we need to ensure that every unique outcome has a probability assigned to it.\n",
    "\n",
    "Example play darts, each distince outcome has some probability assigned to it based on how big its associated interval is.\n",
    "\n",
    "Since we have finitely many possible outcomes we are dealing with a didcrete distribution.\n",
    "\n",
    "In probability, we are often more interested in the likelihood of an interval than an individual value.\n",
    "\n",
    "So with the discrete distribution, we can simply add up the probabilities for all the values that fall within that range.\n",
    "\n",
    "Example draw a card 20 times, and we want to know the probability of drawing three spades or fewer, we will first calculate the <code>P(0), P(1), P(2), P(3)</code>, and sum them up <code>P(0) + P(1) + P(2) + P(3) = P(y <= 3)</code>.\n",
    "\n",
    "The peculiarity of the discrete distribution is :<code>P(Y <= y) = P[Y < (y + 1)]</code>, like the example of draw a card, the probability of <code>P(spades <=3) = P(spades < 4)</code>."
   ]
  },
  {
   "cell_type": "code",
   "execution_count": null,
   "metadata": {},
   "outputs": [],
   "source": []
  }
 ],
 "metadata": {
  "kernelspec": {
   "display_name": "Python 3",
   "language": "python",
   "name": "python3"
  },
  "language_info": {
   "codemirror_mode": {
    "name": "ipython",
    "version": 3
   },
   "file_extension": ".py",
   "mimetype": "text/x-python",
   "name": "python",
   "nbconvert_exporter": "python",
   "pygments_lexer": "ipython3",
   "version": "3.7.4"
  }
 },
 "nbformat": 4,
 "nbformat_minor": 2
}
