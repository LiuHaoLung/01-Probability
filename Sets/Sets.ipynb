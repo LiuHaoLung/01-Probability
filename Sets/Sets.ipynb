{
 "cells": [
  {
   "cell_type": "markdown",
   "metadata": {},
   "source": [
    "# Sets"
   ]
  },
  {
   "cell_type": "markdown",
   "metadata": {},
   "source": [
    "Every event has a set of outcomes, and this outcomes means favourable outcomes.\n",
    "___\n",
    "\n",
    "The values of a set don't always have to be numerical.\n",
    "\n",
    "Every set can be either empty or have values in it, if the set don't have any values, it can call the empty set or null set.\n",
    "\n",
    "The non empty sets can be finite or infinite, it depending on the number of elements in this set.\n",
    "\n",
    "If x this element is part of a set A, that means x belong to the A. If the set A have a element x, that meams A contains x.\n",
    "\n",
    "If a symbol like <code>∀</code>, that means for all/any. So if <code>∀x ∈ A</code>, this means for all x in A.\n",
    "\n",
    "If <code>∀:</code>, this <code>:</code> means such that and it is incredibly useful when we want to make statements about a specific group of elements within a set. \n",
    "\n",
    "If some statement like <code>∀x ∈ A: x is even</code>, this means only concern the even number in a set.\n",
    "\n",
    "Subset is a set that is fully contained in another set, that means if every elements of A is also an elements of B, then A is a subset of B, it can write like <code>A ⊆ B</code>.\n",
    "\n",
    "The important thing is every set contains at least 2 subsets, that means <code>A ⊆ A</code> and <code>∅ ⊆ A</code>."
   ]
  },
  {
   "cell_type": "code",
   "execution_count": null,
   "metadata": {},
   "outputs": [],
   "source": []
  }
 ],
 "metadata": {
  "kernelspec": {
   "display_name": "Python 3",
   "language": "python",
   "name": "python3"
  },
  "language_info": {
   "codemirror_mode": {
    "name": "ipython",
    "version": 3
   },
   "file_extension": ".py",
   "mimetype": "text/x-python",
   "name": "python",
   "nbconvert_exporter": "python",
   "pygments_lexer": "ipython3",
   "version": "3.7.4"
  }
 },
 "nbformat": 4,
 "nbformat_minor": 2
}
