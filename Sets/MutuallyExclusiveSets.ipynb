{
 "cells": [
  {
   "cell_type": "markdown",
   "metadata": {},
   "source": [
    "# Mutually Exclusive Sets"
   ]
  },
  {
   "cell_type": "markdown",
   "metadata": {},
   "source": [
    "The mutually exclusive sets which are not allowed to have any overlapping elements, this means A and B are never intersect.\n",
    "\n",
    "Mutually exclusive sets have the empty set as their intersection, in the other words, if the intersection of any number of sets in the empty sets, then they must be mutually exclusive.\n",
    "\n",
    "If the A and B are mutually exclusive, their union is <code> A ∪ B = A + B </code>.\n",
    "\n",
    "Sets have complements too, if a set consisting of all the odd number, then a set complement all have even number.\n",
    "\n",
    "The set complements are always mutually exclusive set, but not all mutually exclusive sets are complements."
   ]
  }
 ],
 "metadata": {
  "kernelspec": {
   "display_name": "Python 3",
   "language": "python",
   "name": "python3"
  },
  "language_info": {
   "codemirror_mode": {
    "name": "ipython",
    "version": 3
   },
   "file_extension": ".py",
   "mimetype": "text/x-python",
   "name": "python",
   "nbconvert_exporter": "python",
   "pygments_lexer": "ipython3",
   "version": "3.7.4"
  }
 },
 "nbformat": 4,
 "nbformat_minor": 2
}
