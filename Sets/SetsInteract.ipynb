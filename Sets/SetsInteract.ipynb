{
 "cells": [
  {
   "cell_type": "markdown",
   "metadata": {},
   "source": [
    "# Sets Interact"
   ]
  },
  {
   "cell_type": "markdown",
   "metadata": {},
   "source": [
    "There are two events A and B.\n",
    "___\n",
    "If the A and B never touch, that means the two events can never happen simultaneously.\n",
    "\n",
    "That means, if event A occurring guarantees that event B is not occurring and vice versa.\n",
    "___\n",
    "If the A and B intersect, that means the two events can occur at the same time.\n",
    "\n",
    "If the A means all Diamonds, the B means all Queens, the intersect part is Queen of Diamonds.\n",
    "___\n",
    "If the one events are completely oberlaps another, that means one event can only ever occur if the ohter one does as well.\n",
    "\n",
    "If event A doesn't occur then neither does event B.\n",
    "\n",
    "If the A means Red card, the B means Diamond, the overlaps means we can only ever get a Diamond if we get a Red card."
   ]
  },
  {
   "cell_type": "code",
   "execution_count": null,
   "metadata": {},
   "outputs": [],
   "source": []
  }
 ],
 "metadata": {
  "kernelspec": {
   "display_name": "Python 3",
   "language": "python",
   "name": "python3"
  },
  "language_info": {
   "codemirror_mode": {
    "name": "ipython",
    "version": 3
   },
   "file_extension": ".py",
   "mimetype": "text/x-python",
   "name": "python",
   "nbconvert_exporter": "python",
   "pygments_lexer": "ipython3",
   "version": "3.7.4"
  }
 },
 "nbformat": 4,
 "nbformat_minor": 2
}
