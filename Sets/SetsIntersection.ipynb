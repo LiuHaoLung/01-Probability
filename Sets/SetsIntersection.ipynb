{
 "cells": [
  {
   "cell_type": "markdown",
   "metadata": {},
   "source": [
    "# Sets Intersection"
   ]
  },
  {
   "cell_type": "markdown",
   "metadata": {},
   "source": [
    "There are two events A and B.\n",
    "___\n",
    "When both A and B to happen at the same time, then we are taking about their intersection.\n",
    "\n",
    "The intersection is exactly as the name suggests the area where these events intersect.\n",
    "\n",
    "The area intersect means all the outcomes that are favourable for both event A and event B simultaneously, it means <code>A ∩ B</code>.\n",
    "___\n",
    "\n",
    "Example, the intersection of all Hearts and all Diamond is the empty set, the empty means there are no outcomes whith satisfy both events simultaneously, so it means <code>A ∩ B = ∅</code>.\n",
    "\n",
    "The intersection of all Diamonds and all Queens is represented by the queen of diamonds, that means it is the only one that statifies being a queem and being a diamond at the same time.\n",
    "\n",
    "The diamonds are overlap the red cards, that means the intersection of the two would simply be 'All Diamonds', that because any diamond is simultaneously red and a diamond, so it means <code>A ∩ B = B</code>.\n",
    "\n",
    "We use the intersections to denote instance where both events A and B happen simultaneously.\n",
    "\n"
   ]
  }
 ],
 "metadata": {
  "kernelspec": {
   "display_name": "Python 3",
   "language": "python",
   "name": "python3"
  },
  "language_info": {
   "codemirror_mode": {
    "name": "ipython",
    "version": 3
   },
   "file_extension": ".py",
   "mimetype": "text/x-python",
   "name": "python",
   "nbconvert_exporter": "python",
   "pygments_lexer": "ipython3",
   "version": "3.7.4"
  }
 },
 "nbformat": 4,
 "nbformat_minor": 2
}
