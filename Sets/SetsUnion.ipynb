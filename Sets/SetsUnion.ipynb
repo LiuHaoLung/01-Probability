{
 "cells": [
  {
   "cell_type": "markdown",
   "metadata": {},
   "source": [
    "# Sets Union"
   ]
  },
  {
   "cell_type": "markdown",
   "metadata": {},
   "source": [
    "There are two events A and B.\n",
    "___\n",
    "The union is combination of all outcomes preferred for either A or B.\n",
    "\n",
    "The denote the union of two sets <code> A ∪ B </code>.\n",
    "\n",
    "If the sets A and B do not touch at all, their union would simply be their sum, that means <code>A ∪ B = A + B </code>, because no element is in both sets simultaneously, so don't need to worry about the double counting.\n",
    "\n",
    "Just like the Diamonds and hearts, the union of Diamonds and hearts are all red cards, so we need not worry about double counting the cards twice.\n",
    "\n",
    "If the events intersect, the area of the union is represented by the sum of two sets - the intersection of two sets, that means <code>A ∪ B = A + B - A ∩ B</code>, that because if we simply add up the area of the two stes we would be double counting every element that is part of the intersection.\n",
    "\n",
    "Example 5 people in the office have blond hair, the 4 people in the office have bule-eyed, only one person are both, therefore there only 3 people with non blond hair with blue-eyed and four people with blue-eyed with non blond hair.\n",
    "\n",
    "If B is a subset of A, in this case the union would simply be the entire set A.\n"
   ]
  },
  {
   "cell_type": "code",
   "execution_count": null,
   "metadata": {},
   "outputs": [],
   "source": []
  }
 ],
 "metadata": {
  "kernelspec": {
   "display_name": "Python 3",
   "language": "python",
   "name": "python3"
  },
  "language_info": {
   "codemirror_mode": {
    "name": "ipython",
    "version": 3
   },
   "file_extension": ".py",
   "mimetype": "text/x-python",
   "name": "python",
   "nbconvert_exporter": "python",
   "pygments_lexer": "ipython3",
   "version": "3.7.4"
  }
 },
 "nbformat": 4,
 "nbformat_minor": 2
}
