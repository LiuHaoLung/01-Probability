{
 "cells": [
  {
   "cell_type": "markdown",
   "metadata": {},
   "source": [
    "# Uniform Distribution"
   ]
  },
  {
   "cell_type": "markdown",
   "metadata": {},
   "source": [
    "All outcomes have equal probability, like rolling a single standard six sided die.\n",
    "___\n",
    "Use ***U*** to define a uniform distribution and follow the range fo values ***(a,b)*** in a data set.\n",
    "\n",
    "The statement ***X~U(a,b)*** , assume a = 3, b= 7, then the statement ***X~U(3,7)***, this means X follows a discrete uniform distribution ranging from 3 to 7.\n",
    "___\n",
    "\n",
    "Example, we rolling a standard six sided die, the probability <code>P(1) = P(2) = P(3) = P(4) = P(5) = P(6) = 1/6</code>, so the graph of the probability distribution would have six equally tall bars, that means each individual outcome is equally likely.\n",
    "\n",
    "Not only rolling a die, but also the everyday situation are following the uniform distribution.\n",
    "___\n",
    "\n",
    "The expected value of uniform probability is provide us no relevant information, because all outcomes have the same probability, so this expected value brings no predictive power.\n",
    "___\n",
    "\n",
    "The uniform distribution's mean and variance are completely uninterpretable and no real intuition behind what they mean."
   ]
  }
 ],
 "metadata": {
  "kernelspec": {
   "display_name": "Python 3",
   "language": "python",
   "name": "python3"
  },
  "language_info": {
   "codemirror_mode": {
    "name": "ipython",
    "version": 3
   },
   "file_extension": ".py",
   "mimetype": "text/x-python",
   "name": "python",
   "nbconvert_exporter": "python",
   "pygments_lexer": "ipython3",
   "version": "3.7.4"
  }
 },
 "nbformat": 4,
 "nbformat_minor": 2
}
