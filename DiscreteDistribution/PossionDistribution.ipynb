{
 "cells": [
  {
   "cell_type": "markdown",
   "metadata": {},
   "source": [
    "# Possion Distribution"
   ]
  },
  {
   "cell_type": "markdown",
   "metadata": {},
   "source": [
    "Use ***Po*** to define a possion distribution and follow a single value ***λ***.\n",
    "\n",
    "The statement ***Y~Po(λ)*** , assume λ = 4, then the statement ***Y~Po(4)***.\n",
    "___\n",
    "\n",
    "The possion distribution deal with the frequency with which an event occurs within a specific interval.\n",
    "\n",
    "The possion distribution requires knowing how often it occurs for a specific period of time or distance.\n",
    "___\n",
    "\n",
    "Example a firefly might light up 3 times in 10 seconds on average.\n",
    "\n",
    "If we want to determine the likelihood of it lighting up 8 times in 20 seconds, it should use the possion distribution.\n",
    "\n",
    "The graph of possion distribution, plots the number of instances, the event occurs in a standard interval of time and the probability for each one and the graph are always start from 0.\n",
    "___\n",
    "\n",
    "Example the online class, the students questioned per day usually is 4, but oneday is 7, wonder how likely it was that they would ask exactly 7 questions.\n",
    "\n",
    "So in this example, the average number of questions you anticipate is 4, so ***λ*** = 4, the time interval is one entire workday, the singular instance you interested is 7, so ***y = 7***.\n",
    "\n",
    "<code>P(Y) = [(λ ^ y) * (e ^ -λ)] / y!</code>, the e is Euler's number(Napier's constant) and it is fixed number, approximately 2.72.\n",
    "\n",
    "So the λ = 4, y = 7, the formula is <code>P(7) = [(4 ^ 7) * (e ^ -4)] / 7! and it approximately 16384 * 0.0183 / 5040 = 0.06.</code>\n",
    "___\n",
    "\n",
    "The expected value is <code>E(y) = λ</code>.\n",
    "\n",
    "The variance is λ."
   ]
  },
  {
   "cell_type": "code",
   "execution_count": null,
   "metadata": {},
   "outputs": [],
   "source": []
  }
 ],
 "metadata": {
  "kernelspec": {
   "display_name": "Python 3",
   "language": "python",
   "name": "python3"
  },
  "language_info": {
   "codemirror_mode": {
    "name": "ipython",
    "version": 3
   },
   "file_extension": ".py",
   "mimetype": "text/x-python",
   "name": "python",
   "nbconvert_exporter": "python",
   "pygments_lexer": "ipython3",
   "version": "3.7.4"
  }
 },
 "nbformat": 4,
 "nbformat_minor": 2
}
