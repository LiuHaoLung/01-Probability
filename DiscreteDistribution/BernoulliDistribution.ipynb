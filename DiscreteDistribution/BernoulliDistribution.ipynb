{
 "cells": [
  {
   "cell_type": "markdown",
   "metadata": {},
   "source": [
    "# Bernoulli Distribution"
   ]
  },
  {
   "cell_type": "markdown",
   "metadata": {},
   "source": [
    "Any event we only have one trial and two possible outcomes, like the coin flip, a single true/false questions or the vote of elections.\n",
    "___\n",
    "\n",
    "Use ***Bern*** to define a bernoulli distribution and follow by the probability of our preferred outcome ***(p)***.\n",
    "\n",
    "The statement ***X~Bern(p)*** , this means X follows a bernoulli distribution with a probability of success equal to p.\n",
    "___\n",
    "\n",
    "When dealing with bernoulli distribution we either have the probabilities or one of the events occurring or have pass data indicating some experimental probability.\n",
    "\n",
    "So the graph of bernoulli distribution is simple, it consists of two bars for each of the possible outcomes, one bar would rise up to its associated probability of P, and the other one would only reach 1-P.\n",
    "___\n",
    "\n",
    "In bernoulli distribution we have to assigned which outcome is 0 and which outcome is 1.\n",
    "\n",
    "The expected value of bernoulli distribution, depending on how we assign the 0 and 1, the expected value will be equal P or 1-P."
   ]
  },
  {
   "cell_type": "code",
   "execution_count": null,
   "metadata": {},
   "outputs": [],
   "source": []
  }
 ],
 "metadata": {
  "kernelspec": {
   "display_name": "Python 3",
   "language": "python",
   "name": "python3"
  },
  "language_info": {
   "codemirror_mode": {
    "name": "ipython",
    "version": 3
   },
   "file_extension": ".py",
   "mimetype": "text/x-python",
   "name": "python",
   "nbconvert_exporter": "python",
   "pygments_lexer": "ipython3",
   "version": "3.7.4"
  }
 },
 "nbformat": 4,
 "nbformat_minor": 2
}
