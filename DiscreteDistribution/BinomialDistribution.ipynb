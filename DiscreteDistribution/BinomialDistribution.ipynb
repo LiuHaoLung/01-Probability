{
 "cells": [
  {
   "cell_type": "markdown",
   "metadata": {},
   "source": [
    "# Binomial Distribution"
   ]
  },
  {
   "cell_type": "markdown",
   "metadata": {},
   "source": [
    "The binomial distribution is a sequence of identical bernoulli events.\n",
    "___\n",
    "\n",
    "Use ***B*** to define a binomial distribution and follow by the number of trials and the probability of success in each one ***(n,p)***.\n",
    "\n",
    "The statement ***X~B(n,p)*** , assume n = 10, p = 0.6, then the statement ***X~B(10,0.6)***, this means X follows a binomial distribution with 10 trials and a likelihood of 0.6 to succeed on each individual trial.\n",
    "\n",
    "Additional we can express bernoulli distribution Bern(P) = B(1,p).\n",
    "___\n",
    "\n",
    "Example you have a pop quiz and this quiz consists of 10 true/false questions.\n",
    "\n",
    "Condition                 |Type\n",
    "----                      |----\n",
    "Guessing 1 question       |Bernoulli Distribution\n",
    "Guessing the entire quiz  |Binomial Distribution\n",
    "\n",
    "___\n",
    "\n",
    "The expected Value:\n",
    "\n",
    "Type                      |Expected values\n",
    "----                      |----\n",
    "Bernoulli Distribution    |Which outcome we expect for a single trial\n",
    "Binomial Distribution     |The number of times we expect to get a specific outcome\n",
    "___\n",
    "\n",
    "The graph of binomial distribution represents the likelihood of attaining our desired outcome a specific number of times.\n",
    "\n",
    "If run and trial, this graph will consist n+1 bars one for each unique value from 0 to N.\n",
    "___\n",
    "\n",
    "If we wish to find the associated likelihood of getting a given outcome a precise number of times, we need to use probability function of the binomial distribution ***p(y)***.\n",
    "\n",
    "Each individual trial is a bernoulli trial, so we express the probability of getting our desired probabiltiy ***P(desired outcome) = p***.\n",
    "\n",
    "The likelihood of the other one ***P(alternative outcome) = 1 - p***.\n",
    "\n",
    "In order to get our favorite outcome, exactly y many times over the n trial, the alternative outcome is n - y.\n",
    "\n",
    "So the binomial distribution probability function is <code> p(y) = combination(n,y) * (P ^ y) * [(1 - P) ^ (n - y)]</code>.\n",
    "___\n",
    "\n",
    "Example buying a single stock of general motors, it know p(go up) = 0.6, p(drop) = 0.4, if we want to know the likelihood 3 increases in 5 days, we can use the probability function.\n",
    "\n",
    "If we use the porbability function, then y = 3, n = 5, p = 0.6, so the formula = <code>p(y) = combination(5,3) * (0.6 ^ 3) *[(1 - 0.6) ^ (5 - 3)] = 10 * 0.216 * 0.16 = 0.3456</code>.\n",
    "___\n",
    "\n",
    "The expected value of binomial distribution is <code> E(Y) = p * n</code>.\n",
    "\n",
    "The variance of binomial distribution is <code>E(y ^ 2) - (E(y) ^ 2)</code>.\n",
    "\n",
    "The standard deviation is <code>variance ^ 0.5</code>\n",
    "\n",
    "So when knowing the expected value and standard deviation allows us to make more accurate future forecasts."
   ]
  },
  {
   "cell_type": "code",
   "execution_count": null,
   "metadata": {},
   "outputs": [],
   "source": []
  }
 ],
 "metadata": {
  "kernelspec": {
   "display_name": "Python 3",
   "language": "python",
   "name": "python3"
  },
  "language_info": {
   "codemirror_mode": {
    "name": "ipython",
    "version": 3
   },
   "file_extension": ".py",
   "mimetype": "text/x-python",
   "name": "python",
   "nbconvert_exporter": "python",
   "pygments_lexer": "ipython3",
   "version": "3.7.4"
  }
 },
 "nbformat": 4,
 "nbformat_minor": 2
}
