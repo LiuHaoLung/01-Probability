{
 "cells": [
  {
   "cell_type": "markdown",
   "metadata": {},
   "source": [
    "# Chi Squared Distribution"
   ]
  },
  {
   "cell_type": "markdown",
   "metadata": {},
   "source": [
    "Define a Chi Squared Distribution using <code>χ²</code> followed by a parameter depicting the degrees of freedom, we read this as a <code>Y~χ²(k)</code>.\n",
    "___\n",
    "\n",
    "The Chi Squared Distribution is most in statistical analysis when doing hypothesis testing and computing confidence intervals, in particular we most commonly find it when determining the goodness of fit of categorical values.\n",
    "\n",
    "The graph of Chi Squared Distribution is not symmetric but rather asymmetric, because its graph is highly skewed to the right, furthermore the values depicted on the x axis start from 0 rather than a negative number.\n",
    "\n",
    "Student's T Distribution to the second power give us the Chi Squared Distribution and vice versa.\n",
    "\n",
    "The convenient feature of the Chi Squared Distribution is that is also contains a table of known values, just like normal or student's T.\n",
    "\n",
    "The <code>E(X) = k</code>, the <code>Var(X) = 2k</code>."
   ]
  },
  {
   "cell_type": "code",
   "execution_count": null,
   "metadata": {},
   "outputs": [],
   "source": []
  }
 ],
 "metadata": {
  "kernelspec": {
   "display_name": "Python 3",
   "language": "python",
   "name": "python3"
  },
  "language_info": {
   "codemirror_mode": {
    "name": "ipython",
    "version": 3
   },
   "file_extension": ".py",
   "mimetype": "text/x-python",
   "name": "python",
   "nbconvert_exporter": "python",
   "pygments_lexer": "ipython3",
   "version": "3.7.4"
  }
 },
 "nbformat": 4,
 "nbformat_minor": 2
}
