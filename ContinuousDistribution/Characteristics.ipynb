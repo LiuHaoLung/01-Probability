{
 "cells": [
  {
   "cell_type": "markdown",
   "metadata": {},
   "source": [
    "# Continuous Distribution"
   ]
  },
  {
   "cell_type": "markdown",
   "metadata": {},
   "source": [
    "Some events hava infinitely many consecutive outcomes, it calls continuous distribution.\n",
    "\n",
    "The continuous distribution sample space is infinite therefore we can't record the frequency of each distinct value, thus we can't longer represent these distribution with a table.\n",
    "\n",
    "But we can represent them with a graph, more precisely this graph of the ***probability density function(PDF)***.\n",
    "\n",
    "The PDF means ***f(y)***, this y means an element of the sample space and this function depicts the associated probability fore every possible value 'y', since it expresses probability the value it associates with an element of the sample space would be greater than or equal to 0.\n",
    "___\n",
    "\n",
    "The graph for continuous distribution slightly resembel the ones for discrete distributions, however there are more elements in the sample space so there are more bars on the graph, furthermore the more bars the narrower each one must be this result in  a smooth curve that goes along the top of these bars we call this the ***probabiltiy distribution curve(PDC)*** since it shows the likelihood of each outcome.\n",
    "___\n",
    "\n",
    "We used the <code>P(y) = favourable / sample space</code>, the continuous distribution is infinite, the <code>P(y) = 1 / infinite</code>, so the likelihood of each individual one would be extremely small and it extremely insignificant so we assume their likelihood of ocurring to be essentially 0.\n",
    "___\n",
    "\n",
    "***Cumulative distribution function(CDF)*** since it is cumulative, this function encompasses everything up to a certain value.\n",
    "\n",
    "The CDF we denote ***F(y)*** for any continuous random variable y, it represents probability of the random variable being lower than or equal to a specific value.\n",
    "\n",
    "No value could be lower than or equal to negetive infinity, the CDF of value for negative infinity would equal 0, similarly since any value would be lower than plus infinity. So the <code>F(-∞) = 0, F(∞) = 1</code>.\n",
    "\n",
    "The CDF is especially useful when we want to estimate the probability of some interval.\n",
    "\n",
    "Graphically the area under the density curve would represent the chance of getting a value within that interval, we find this area by computing the integral of the density curve over the interval from a to b, this means <code>∫ a b p(x) * dx</code>.\n",
    "\n",
    "The cumulative probability is simply the probability of the interval from negative infinity to y, this suggests that the CDF for a specific value y is <code>∫ y -∞ p(y) * dy = F(y)</code>, so PDF integral will become CDF and the CDF first dirivative is PDF, this means <code>p(y) = F(y) * d/dy</code>.\n",
    "___\n",
    "\n",
    "Oftentimes when dealing with continuous variables we are only given their probability density functions(PDF).\n",
    "\n",
    "The continuous distribution's expected value is <code>∫ ∞ -∞ y * p(y) * dy</code>.\n",
    "\n",
    "The continuous distribution's variance is <code>E(y ^ 2) - (E(y) ^ 2)</code>."
   ]
  },
  {
   "cell_type": "code",
   "execution_count": null,
   "metadata": {},
   "outputs": [],
   "source": []
  }
 ],
 "metadata": {
  "kernelspec": {
   "display_name": "Python 3",
   "language": "python",
   "name": "python3"
  },
  "language_info": {
   "codemirror_mode": {
    "name": "ipython",
    "version": 3
   },
   "file_extension": ".py",
   "mimetype": "text/x-python",
   "name": "python",
   "nbconvert_exporter": "python",
   "pygments_lexer": "ipython3",
   "version": "3.7.4"
  }
 },
 "nbformat": 4,
 "nbformat_minor": 2
}
