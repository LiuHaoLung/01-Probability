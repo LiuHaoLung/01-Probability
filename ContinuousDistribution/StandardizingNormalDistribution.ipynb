{
 "cells": [
  {
   "cell_type": "markdown",
   "metadata": {},
   "source": [
    "# Standardizing Normal Distribution"
   ]
  },
  {
   "cell_type": "markdown",
   "metadata": {},
   "source": [
    "Transformation is a way in which we can alter every element of a distribution to get a new distribution with similar characteristics.\n",
    "\n",
    "If we had a constant like 3 to the entire distribution <code> y = f(x + 3)</code>, so we simply need to move the graph three places to the right.\n",
    "\n",
    "Similarly if we subtract a number from the entire distribution <code>y = f(x - 3)</code>, so we simply need to move the graph three places to the left to get new one.\n",
    "\n",
    "If we multiply the function by the constant <code>y = f(x * c)</code>, it will shrink that many times.\n",
    "\n",
    "If we divide every element by a number <code>y = f(x / c)</code>, the graph will expend.\n",
    "\n",
    "Howerver, if we multiply or divide by a number between 0 and 1, the opposing effects will occur, jusk like if dividing <code>1/2</code>, it is the same as multiplying by 2.\n",
    "___\n",
    "\n",
    "Standardizing is a special kind of transformation in which we make the E(X) = 0 and the Var(X) = 1, the distribution we get after stanardizing any normal distribution is called a ***standard normal distribution***.\n",
    "\n",
    "The ***68,95,99.7 rule*** a table exists which summarizes the most commonly used value for CDF of a standard normal distribution table, or the z-score table.\n",
    "___\n",
    "\n",
    "We wish to move the graph either to the left or right until it's mean equals 0, the way we would do that is by subtracting the <code>μ</code> from every element, that means<code>y = f(x - μ)</code>, so the mean will equal 0.\n",
    "\n",
    "Then to make the standardization complete, we need to make sure the standard deviation is 1, to do so we would have to divide every element of the newly obtained distribution by the value of the standard deviation, this mean <code>y = f((x - μ) / σ)</code>.\n",
    "\n",
    "If we denote the standard normal distribution with <code>Z ~ N(0,1)</code>, then for any normal distributed variable <code>Y ~ N(μ,σ^2)</code>, so the <code>Z = (Y - μ) / σ</code>, this equation expresses the transformation we use when standardizing.\n",
    "\n",
    "Applying this singel transformation for any for normal distribution would result in a standard normal distribution, that means <code>Y to the Z</code>.\n",
    "\n",
    "Essentially every element of the non standardized distribution is represented in the new distribution by the number of standard deviation it is away from the mean.\n",
    "\n",
    "Example if a value is <code>y = μ + 2.3σ</code>, when standardizing, the value is <code> z = 2.3</code>.\n",
    "\n",
    "The standardizing is incredibly useful when we have a normal distribution, but we can't always anticipate that the data is spread out that way.\n",
    "\n",
    "A crucial factor remember about the normal distribution is that it requires a lot of data\n",
    "\n",
    "If our sample is limited we run the risk of outliers drastically affecting our analysis in cases where we have less than 30 entries."
   ]
  },
  {
   "cell_type": "code",
   "execution_count": null,
   "metadata": {},
   "outputs": [],
   "source": []
  }
 ],
 "metadata": {
  "kernelspec": {
   "display_name": "Python 3",
   "language": "python",
   "name": "python3"
  },
  "language_info": {
   "codemirror_mode": {
    "name": "ipython",
    "version": 3
   },
   "file_extension": ".py",
   "mimetype": "text/x-python",
   "name": "python",
   "nbconvert_exporter": "python",
   "pygments_lexer": "ipython3",
   "version": "3.7.4"
  }
 },
 "nbformat": 4,
 "nbformat_minor": 2
}
