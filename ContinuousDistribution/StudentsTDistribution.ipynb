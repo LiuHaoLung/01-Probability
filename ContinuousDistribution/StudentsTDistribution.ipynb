{
 "cells": [
  {
   "cell_type": "markdown",
   "metadata": {},
   "source": [
    "# Student's T Distribution"
   ]
  },
  {
   "cell_type": "markdown",
   "metadata": {},
   "source": [
    "Define a Student's-T Distribution using t followed by the single parameter in parentheses called degrees of freedom, we read this as a <code>Y~t(k)</code>.\n",
    "___\n",
    "\n",
    "It is a small sample size approximation of a Normal Distribution, so when the sample size is not enough sufficient data, we will use Student's T Distribution.\n",
    "\n",
    "The curve of Student's T Distribution is alse bell shaped and symmetric, however it has fatter tails to accommodate the occurrence of values far away from the mean.\n",
    "\n",
    "That is because if such a value features in our limited data, it would be representing a bigger part of the total another key different between the Student's T Distribution and Normal Distribtuion is that apart from the mean and variance and we must alse define the degrees of freedom for the distribution.\n",
    "\n",
    "If we have at least 2 degrees of freedom, the <code>E(Y) = μ</code>, <code>Var(Y) = (S^2 * k) / (k - 2)</code>, this <code>S^2</code> means the variance of the sample. \n",
    "\n",
    "Overall the Student's T Distribution is frequently used when conducting statistical analysis and it plays a major role when we want to do hypothesis testing with limited data, since we also have a table summarizing the most important values of its CDF(T-table)."
   ]
  },
  {
   "cell_type": "code",
   "execution_count": null,
   "metadata": {},
   "outputs": [],
   "source": []
  }
 ],
 "metadata": {
  "kernelspec": {
   "display_name": "Python 3",
   "language": "python",
   "name": "python3"
  },
  "language_info": {
   "codemirror_mode": {
    "name": "ipython",
    "version": 3
   },
   "file_extension": ".py",
   "mimetype": "text/x-python",
   "name": "python",
   "nbconvert_exporter": "python",
   "pygments_lexer": "ipython3",
   "version": "3.7.4"
  }
 },
 "nbformat": 4,
 "nbformat_minor": 2
}
