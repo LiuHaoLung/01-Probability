{
 "cells": [
  {
   "cell_type": "markdown",
   "metadata": {},
   "source": [
    "# Exponential Distribution"
   ]
  },
  {
   "cell_type": "markdown",
   "metadata": {},
   "source": [
    "Define a Exponential Distribution using EXP followed by a scale parameter <code>λ</code>, we read this as a <code>X~EXP(λ)</code>.\n",
    "___\n",
    "\n",
    "Variables which most closely follow an exponential distribtuion are ones which a probability that initially decreases before eventually plateauing.\n",
    "\n",
    "It means Starts off high then initially decreases finally eventually plateauing.\n",
    "\n",
    "Example of the youtube video, there is a great interest upon release so it starts off with many views in the first or two days and the view counter shows down, even though the aggregate amount of views keeps increasing, the number of new ones diminishes daily, as times goes on the video either becomes outdated or the author produces new content, so viewership focus shifts away, therefore most likely for a random viewing to have occured close to the video's intial release.\n",
    "\n",
    "The PDF of such a function would start off very high and sharply decrease within the first few timeframes, the curve somewhat resembles a boomerang with each handle lining up with the x and y axis.\n",
    "\n",
    "The CDF also resembles a boomerang, however this one is shifted 90 degrees to the right, so the cumulative distribution eventually approaches 1, so that would be the value where it plateaus.\n",
    "\n",
    "To define the Exponential Distribution, we require a rate parameter denoted by the <code>λ</code>, this determines how fast the PDF/CDF curve reaches the point of plateauing and how spread out the graph.\n",
    "\n",
    "The <code>E(Y) = 1 / λ</code>, <code>Var(Y) = 1 / (λ ^ 2)</code>.\n",
    "\n",
    "With the exponential distribution, we have no table of known variables, that is why sometimes we prefer to transform it."
   ]
  },
  {
   "cell_type": "code",
   "execution_count": null,
   "metadata": {},
   "outputs": [],
   "source": []
  }
 ],
 "metadata": {
  "kernelspec": {
   "display_name": "Python 3",
   "language": "python",
   "name": "python3"
  },
  "language_info": {
   "codemirror_mode": {
    "name": "ipython",
    "version": 3
   },
   "file_extension": ".py",
   "mimetype": "text/x-python",
   "name": "python",
   "nbconvert_exporter": "python",
   "pygments_lexer": "ipython3",
   "version": "3.7.4"
  }
 },
 "nbformat": 4,
 "nbformat_minor": 2
}
