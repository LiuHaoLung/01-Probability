{
 "cells": [
  {
   "cell_type": "markdown",
   "metadata": {},
   "source": [
    "# Logistic Distribution"
   ]
  },
  {
   "cell_type": "markdown",
   "metadata": {},
   "source": [
    "Define a Logistic Distribution using Logistic followed by two parameter, one is μ and also prefer the mean parameter as the location, the other one is scale parameter S, we read this as a <code>Y~Logistic(μ,S)</code>.\n",
    "___\n",
    "\n",
    "When we trying to determine how continuous variable inputs can affect the probability of a binary outcome.\n",
    "\n",
    "This approach is commonly found in forecasting like competitive sports events where there exist only two clear outcomes.\n",
    "___\n",
    "\n",
    "The graph of the PDF of the logistic distribution would look similarly to the normal distribution.\n",
    "\n",
    "Actually the graph of the logistic distribution is defined by two features, it's mean and scale parameter.\n",
    "\n",
    "The mean dictates the center of the graph, the scale parameter shows how spread out the graph is going to be.\n",
    "\n",
    "The CDF it should be a curve that starts off slow then picks up rather quickly before plateauing around the 1, that because once we reach values near the mean, the probability of converting the point drasticaclly goes up.\n",
    "\n",
    "The <code>E(Y) = μ</code>, the <code>Var(Y) = ((S ^2 ) * (π ^ 2)) / 3</code>."
   ]
  },
  {
   "cell_type": "code",
   "execution_count": null,
   "metadata": {},
   "outputs": [],
   "source": []
  }
 ],
 "metadata": {
  "kernelspec": {
   "display_name": "Python 3",
   "language": "python",
   "name": "python3"
  },
  "language_info": {
   "codemirror_mode": {
    "name": "ipython",
    "version": 3
   },
   "file_extension": ".py",
   "mimetype": "text/x-python",
   "name": "python",
   "nbconvert_exporter": "python",
   "pygments_lexer": "ipython3",
   "version": "3.7.4"
  }
 },
 "nbformat": 4,
 "nbformat_minor": 2
}
