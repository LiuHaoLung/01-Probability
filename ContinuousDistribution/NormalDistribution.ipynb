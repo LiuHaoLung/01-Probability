{
 "cells": [
  {
   "cell_type": "markdown",
   "metadata": {},
   "source": [
    "# Normal Distribution"
   ]
  },
  {
   "cell_type": "markdown",
   "metadata": {},
   "source": [
    "Define a Normal Distribution using N followed by the mean and variance, the denote is <code>N(μ,σ^2)</code>.\n",
    "\n",
    "We read the following notation as <code> X~N(μ,σ^2)</code>, that means variable X follows a normal distribution with mean and variance when dealing with actual data.\n",
    "___\n",
    "\n",
    "The normal distribution frequently appears in nature as well as in life, in various shapes and forms.\n",
    "\n",
    "Just like the size of a full grown male line, the many records suggest that the average lions weight 150 to 250 kg.\n",
    "\n",
    "There exist specimen which fall outside of this range, like the lino weight < 150 kg, or > 250 kg tend to be the exception rather than the rule, this out of this range called outliers.\n",
    "___\n",
    "\n",
    "The graph of normal distribution is bell shaped, therefore the majority of the data is centered around the mean, thus values further away from the mean are less likely to occur.\n",
    "\n",
    "The graph of normal distribution is symmetric with regards to the mean that suggests values equally far away in opposing directions would still be equally likely.\n",
    "___\n",
    "\n",
    "The normal distribution's expected value is <code>E(X) = μ</code>.\n",
    "\n",
    "The normal distribution's variance is <code>Var(X) = σ^2</code>, the <code>σ^2</code> is usually given when we define the normal distribution, if it isn't given, we can deduce it from the expected value, the formula is <code>Var(X) = E(X ^ 2) - (E(X) ^ 2)</code>.\n",
    "___\n",
    "\n",
    "The peculiarity of the normal distribution is the ***68,95,99.7 Law***.\n",
    "\n",
    "This law suggests that for any normally distributed event ***68%*** of all outcomes fall within one standard deviation, that means ***68% fall within <code>μ - σ and μ + σ</code>***.\n",
    "\n",
    "***95%*** fall within two standard deviation, that means ***95% fall within <code>μ - 2σ and μ + 2σ</code>***.\n",
    "\n",
    "***99.7%*** fall within three standard deviation, that means ***99.7% fall within <code>μ - 3σ and μ + 3σ</code>***.\n",
    "\n",
    "The normal distribution outliers are extremaly rare."
   ]
  },
  {
   "cell_type": "code",
   "execution_count": null,
   "metadata": {},
   "outputs": [],
   "source": []
  }
 ],
 "metadata": {
  "kernelspec": {
   "display_name": "Python 3",
   "language": "python",
   "name": "python3"
  },
  "language_info": {
   "codemirror_mode": {
    "name": "ipython",
    "version": 3
   },
   "file_extension": ".py",
   "mimetype": "text/x-python",
   "name": "python",
   "nbconvert_exporter": "python",
   "pygments_lexer": "ipython3",
   "version": "3.7.4"
  }
 },
 "nbformat": 4,
 "nbformat_minor": 2
}
